{
 "cells": [
  {
   "cell_type": "markdown",
   "metadata": {},
   "source": [
    "# Name : Aayusb Modi\n",
    "### Dogs vs Cats\n",
    "### Task 3 : Implement a support vector machine (SVM) to classify images of cats and dogs from the Kaggle dataset."
   ]
  },
  {
   "cell_type": "code",
   "execution_count": 23,
   "metadata": {},
   "outputs": [],
   "source": [
    "#import libraries\n",
    "import os\n",
    "import numpy as np\n",
    "import cv2\n",
    "import matplotlib.pyplot as plt\n",
    "import seaborn as sns\n",
    "from sklearn.preprocessing import LabelEncoder\n",
    "from sklearn.svm import SVC\n",
    "from sklearn.metrics import confusion_matrix, accuracy_score, classification_report"
   ]
  },
  {
   "cell_type": "code",
   "execution_count": 24,
   "metadata": {},
   "outputs": [],
   "source": [
    "#Load the data\n",
    "def load_data_from_folders(dataset_path, img_size):\n",
    "    images = []\n",
    "    labels = []\n",
    "\n",
    "    print(f\"Loading data from: {dataset_path}\")\n",
    "\n",
    "    # Check if the dataset path exists\n",
    "    if not os.path.exists(dataset_path):\n",
    "        raise ValueError(f\"Dataset path {dataset_path} does not exist.\")\n",
    "    \n",
    "    for label in os.listdir(dataset_path):\n",
    "        class_dir = os.path.join(dataset_path, label)\n",
    "        if os.path.isdir(class_dir):\n",
    "            print(f\"Loading from directory: {class_dir}\")\n",
    "            for img_file in os.listdir(class_dir):\n",
    "                img_path = os.path.join(class_dir, img_file)\n",
    "                img = cv2.imread(img_path, cv2.IMREAD_COLOR)\n",
    "                if img is not None:\n",
    "                    img = cv2.resize(img, (img_size, img_size))\n",
    "                    images.append(img)\n",
    "                    labels.append(label)\n",
    "                else:\n",
    "                    print(f\"Failed to load image: {img_path}\")\n",
    "\n",
    "    images = np.array(images)\n",
    "    labels = np.array(labels)\n",
    "\n",
    "    print(f\"Loaded {len(images)} images from {dataset_path}\")\n",
    "    if len(images) > 0:\n",
    "        print(f\"Labels: {np.unique(labels)}\")\n",
    "    else:\n",
    "        print(\"No images were loaded.\")\n",
    "\n",
    "    return images, labels"
   ]
  },
  {
   "cell_type": "code",
   "execution_count": 25,
   "metadata": {},
   "outputs": [],
   "source": [
    "# Paths to the dataset\n",
    "TRAIN_PATH = r'C:/Users/ASUS/OneDrive - techno/Desktop/SCT_ML_TASKS/Task-3/dataset/training_set/training_set' \n",
    "TEST_PATH = r'C:/Users/ASUS/OneDrive - techno/Desktop/SCT_ML_TASKS/Task-3/dataset/test_set/test_set'    \n",
    "\n",
    "# Parameters\n",
    "IMG_SIZE = 64  # Resize images to 64x64\n",
    "\n",
    "# Load training and testing data\n",
    "train_images, train_labels = load_data_from_folders(TRAIN_PATH, IMG_SIZE)\n",
    "test_images, test_labels = load_data_from_folders(TEST_PATH, IMG_SIZE)\n",
    "\n",
    "# Check if data is loaded correctly\n",
    "if len(train_labels) == 0:\n",
    "    raise ValueError(\"Training labels not found or not loaded correctly.\")\n",
    "if len(test_images) == 0:\n",
    "    raise ValueError(\"Test images not found or not loaded correctly.\")"
   ]
  },
  {
   "cell_type": "code",
   "execution_count": 26,
   "metadata": {},
   "outputs": [
    {
     "name": "stdout",
     "output_type": "stream",
     "text": [
      "Loading data from: C:/Users/dellf/Downloads/SkillCraft Intern/Task 3/train data/train\n"
     ]
    },
    {
     "name": "stdout",
     "output_type": "stream",
     "text": [
      "Loaded 0 images from C:/Users/dellf/Downloads/SkillCraft Intern/Task 3/train data/train\n",
      "No images were loaded.\n",
      "Loading data from: C:/Users/dellf/Downloads/SkillCraft Intern/Task 3/test data/test\n",
      "Loaded 0 images from C:/Users/dellf/Downloads/SkillCraft Intern/Task 3/test data/test\n",
      "No images were loaded.\n"
     ]
    }
   ],
   "source": [
    "# Parameters\n",
    "IMG_SIZE = 64  # Resize images to 64x64\n",
    "\n",
    "# Load training and testing data\n",
    "train_images, train_labels = load_data_from_folders(TRAIN_PATH, IMG_SIZE)\n",
    "test_images, test_labels = load_data_from_folders(TEST_PATH, IMG_SIZE)"
   ]
  },
  {
   "cell_type": "code",
   "execution_count": null,
   "metadata": {},
   "outputs": [],
   "source": []
  },
  {
   "cell_type": "code",
   "execution_count": 27,
   "metadata": {},
   "outputs": [],
   "source": [
    "# Convert labels to numerical format\n",
    "label_encoder = LabelEncoder()\n",
    "train_labels_encoded = label_encoder.fit_transform(train_labels)\n",
    "test_labels_encoded = label_encoder.transform(test_labels)"
   ]
  },
  {
   "cell_type": "code",
   "execution_count": 28,
   "metadata": {},
   "outputs": [
    {
     "name": "stdout",
     "output_type": "stream",
     "text": [
      "Label encoder saved to label_encoder.pkl\n",
      "Label encoding complete. Classes: []\n"
     ]
    },
    {
     "ename": "ValueError",
     "evalue": "cannot reshape array of size 0 into shape (0,newaxis)",
     "output_type": "error",
     "traceback": [
      "\u001b[1;31m---------------------------------------------------------------------------\u001b[0m",
      "\u001b[1;31mValueError\u001b[0m                                Traceback (most recent call last)",
      "Cell \u001b[1;32mIn[28], line 9\u001b[0m\n\u001b[0;32m      6\u001b[0m \u001b[38;5;28mprint\u001b[39m(\u001b[38;5;124mf\u001b[39m\u001b[38;5;124m\"\u001b[39m\u001b[38;5;124mLabel encoding complete. Classes: \u001b[39m\u001b[38;5;132;01m{\u001b[39;00mlabel_encoder\u001b[38;5;241m.\u001b[39mclasses_\u001b[38;5;132;01m}\u001b[39;00m\u001b[38;5;124m\"\u001b[39m)\n\u001b[0;32m      8\u001b[0m \u001b[38;5;66;03m# Flatten images\u001b[39;00m\n\u001b[1;32m----> 9\u001b[0m train_data \u001b[38;5;241m=\u001b[39m \u001b[43mtrain_images\u001b[49m\u001b[38;5;241;43m.\u001b[39;49m\u001b[43mreshape\u001b[49m\u001b[43m(\u001b[49m\u001b[43m(\u001b[49m\u001b[43mtrain_images\u001b[49m\u001b[38;5;241;43m.\u001b[39;49m\u001b[43mshape\u001b[49m\u001b[43m[\u001b[49m\u001b[38;5;241;43m0\u001b[39;49m\u001b[43m]\u001b[49m\u001b[43m,\u001b[49m\u001b[43m \u001b[49m\u001b[38;5;241;43m-\u001b[39;49m\u001b[38;5;241;43m1\u001b[39;49m\u001b[43m)\u001b[49m\u001b[43m)\u001b[49m\n\u001b[0;32m     10\u001b[0m test_data \u001b[38;5;241m=\u001b[39m test_images\u001b[38;5;241m.\u001b[39mreshape((test_images\u001b[38;5;241m.\u001b[39mshape[\u001b[38;5;241m0\u001b[39m], \u001b[38;5;241m-\u001b[39m\u001b[38;5;241m1\u001b[39m))\n",
      "\u001b[1;31mValueError\u001b[0m: cannot reshape array of size 0 into shape (0,newaxis)"
     ]
    }
   ],
   "source": [
    "# Save the label encoder\n",
    "label_encoder_filename = 'label_encoder.pkl'\n",
    "joblib.dump(label_encoder, label_encoder_filename)\n",
    "print(f\"Label encoder saved to {label_encoder_filename}\")\n",
    "\n",
    "print(f\"Label encoding complete. Classes: {label_encoder.classes_}\")\n",
    "\n",
    "# Flatten images\n",
    "train_data = train_images.reshape((train_images.shape[0], -1))\n",
    "test_data = test_images.reshape((test_images.shape[0], -1))"
   ]
  },
  {
   "cell_type": "code",
   "execution_count": null,
   "metadata": {},
   "outputs": [],
   "source": [
    "# Train the SVM model\n",
    "svm_model = SVC(kernel='linear', C=1.0, random_state=42)\n",
    "svm_model.fit(train_data, train_labels_encoded)\n"
   ]
  },
  {
   "cell_type": "code",
   "execution_count": null,
   "metadata": {},
   "outputs": [],
   "source": [
    "# Save the trained model\n",
    "model_filename = 'svm_model.pkl'\n",
    "joblib.dump(svm_model, model_filename)\n",
    "print(f\"Model saved to {model_filename}\")\n",
    "\n",
    "# Predict on test data\n",
    "test_pred = svm_model.predict(test_data)\n",
    "\n",
    "# Evaluate the model\n",
    "accuracy = accuracy_score(test_labels_encoded, test_pred)\n",
    "print(f\"Accuracy: {accuracy:.2f}\")\n",
    "\n",
    "print(\"Classification Report:\")\n",
    "print(classification_report(test_labels_encoded, test_pred, target_names=label_encoder.classes_))"
   ]
  },
  {
   "cell_type": "code",
   "execution_count": null,
   "metadata": {},
   "outputs": [],
   "source": [
    "# Function to plot confusion matrix\n",
    "def plot_confusion_matrix(y_true, y_pred, label_encoder):\n",
    "    cm = confusion_matrix(y_true, y_pred)\n",
    "    plt.figure(figsize=(10, 7))\n",
    "    sns.heatmap(cm, annot=True, fmt='d', cmap='Blues', xticklabels=label_encoder.classes_, yticklabels=label_encoder.classes_)\n",
    "    plt.xlabel('Predicted Label')\n",
    "    plt.ylabel('True Label')\n",
    "    plt.title('Confusion Matrix')\n",
    "    plt.show()\n",
    "\n",
    "# Plot confusion matrix\n",
    "plot_confusion_matrix(test_labels_encoded, test_pred, label_encoder)\n",
    "\n",
    "def predict_image(image_path, model, label_encoder, img_size=IMG_SIZE):\n",
    "    img = cv2.imread(image_path, cv2.IMREAD_COLOR)\n",
    "    if img is None:\n",
    "        raise ValueError(\"Image not found or could not be loaded.\")\n",
    "    \n",
    "    img = cv2.resize(img, (img_size, img_size))\n",
    "    img = img.astype('float32') / 255.0  # Normalize to [0, 1]\n",
    "    img = img.reshape((1, -1))  # Flatten image\n",
    "\n",
    "    # Predict using the loaded model\n",
    "    prediction = model.predict(img)\n",
    "    predicted_label = label_encoder.inverse_transform(prediction)\n",
    "    \n",
    "    return predicted_label[0]"
   ]
  },
  {
   "cell_type": "code",
   "execution_count": null,
   "metadata": {},
   "outputs": [],
   "source": [
    "# Load the model from the file\n",
    "loaded_model = joblib.load('svm_model.pkl')\n",
    "print(\"Model loaded successfully\")\n",
    "\n",
    "# Load the label encoder\n",
    "label_encoder = joblib.load('label_encoder.pkl')\n",
    "print(\"Label encoder loaded successfully\")\n",
    "\n",
    "# Example user input\n",
    "image_path = input(\"Enter the path to the image for prediction: \")\n",
    "try:\n",
    "    result = predict_image(image_path, loaded_model, label_encoder)\n",
    "    print(f\"Predicted class: {result}\")\n",
    "except ValueError as e:\n",
    "    print(e)"
   ]
  }
 ],
 "metadata": {
  "kernelspec": {
   "display_name": "Python 3",
   "language": "python",
   "name": "python3"
  },
  "language_info": {
   "codemirror_mode": {
    "name": "ipython",
    "version": 3
   },
   "file_extension": ".py",
   "mimetype": "text/x-python",
   "name": "python",
   "nbconvert_exporter": "python",
   "pygments_lexer": "ipython3",
   "version": "3.12.4"
  }
 },
 "nbformat": 4,
 "nbformat_minor": 2
}
